{
 "cells": [
  {
   "cell_type": "markdown",
   "id": "8cd8feed",
   "metadata": {},
   "source": [
    "## Basic Statistics \n"
   ]
  },
  {
   "cell_type": "markdown",
   "id": "737e33f4",
   "metadata": {},
   "source": [
    "The task involves understanding various statistics techniques such as median, mode, variance, degree of freedom, and standard deviation."
   ]
  },
  {
   "cell_type": "code",
   "execution_count": 26,
   "id": "f51c6d0c",
   "metadata": {},
   "outputs": [],
   "source": [
    "# Libraries\n",
    "import numpy as np\n",
    "import statistics"
   ]
  },
  {
   "cell_type": "markdown",
   "id": "8ff07314",
   "metadata": {},
   "source": [
    "###  1. Find and report the Range of the Sample"
   ]
  },
  {
   "cell_type": "code",
   "execution_count": 9,
   "id": "7bd6e22b",
   "metadata": {},
   "outputs": [
    {
     "name": "stdout",
     "output_type": "stream",
     "text": [
      "The range of the sample is: 32\n"
     ]
    }
   ],
   "source": [
    "# Range of a sample equals max - min\n",
    "sample= (20, 12, 8, 10, 3, 15, 7, 35, 7, 33, 5, 17, 9, 18, 4)\n",
    "range_of_sample = max(sample) - min(sample)\n",
    "print ('The range of the sample is:',range_of_sample)"
   ]
  },
  {
   "cell_type": "markdown",
   "id": "0fe04354",
   "metadata": {},
   "source": [
    "### 2. Find and report the Mean (X-Bar) of the Sample"
   ]
  },
  {
   "cell_type": "code",
   "execution_count": 15,
   "id": "31dfea45",
   "metadata": {},
   "outputs": [
    {
     "name": "stdout",
     "output_type": "stream",
     "text": [
      "The mean of the sample is: 13.5333\n"
     ]
    }
   ],
   "source": [
    "# The mean of the sample is np.mean\n",
    "mean_of_sample = np.mean(sample)\n",
    "print('The mean of the sample is:', round (mean_of_sample,4))"
   ]
  },
  {
   "cell_type": "markdown",
   "id": "02404a1e",
   "metadata": {},
   "source": [
    "### 3. Find and report the Median of the Sample"
   ]
  },
  {
   "cell_type": "code",
   "execution_count": 16,
   "id": "f2c6c5c6",
   "metadata": {},
   "outputs": [
    {
     "name": "stdout",
     "output_type": "stream",
     "text": [
      "The median of the sample is: 10.0\n"
     ]
    }
   ],
   "source": [
    "# The meadian of the sample is np.meadian\n",
    "median_of_sample = np.median(sample)\n",
    "print('The median of the sample is:', median_of_sample)"
   ]
  },
  {
   "cell_type": "markdown",
   "id": "cac3d4c3",
   "metadata": {},
   "source": [
    "### 4. Find and report the Mode of the Sample"
   ]
  },
  {
   "cell_type": "code",
   "execution_count": 29,
   "id": "e584cd96",
   "metadata": {},
   "outputs": [
    {
     "name": "stdout",
     "output_type": "stream",
     "text": [
      "The mode of the sample is: 7\n"
     ]
    }
   ],
   "source": [
    "# The mode of the sample is mode\n",
    "mode_of_sample = mode(sample)\n",
    "print('The mode of the sample is:', mode_of_sample)"
   ]
  },
  {
   "cell_type": "markdown",
   "id": "c003df73",
   "metadata": {},
   "source": [
    "### 5. Find and report the Variance of the Sample"
   ]
  },
  {
   "cell_type": "code",
   "execution_count": 31,
   "id": "42f05e4a",
   "metadata": {},
   "outputs": [
    {
     "name": "stdout",
     "output_type": "stream",
     "text": [
      "The variance of the sample is: 95.8381\n"
     ]
    }
   ],
   "source": [
    "# The variance of the sample is np.mode\n",
    "variance_of_sample = statistics.variance(sample)\n",
    "print('The variance of the sample is:', round (variance_of_sample, 4))"
   ]
  },
  {
   "cell_type": "markdown",
   "id": "55e8709f",
   "metadata": {},
   "source": [
    "### 6. Find and report the Degrees of Freedom (DF) of the Sample"
   ]
  },
  {
   "cell_type": "code",
   "execution_count": 32,
   "id": "26cae470",
   "metadata": {},
   "outputs": [
    {
     "name": "stdout",
     "output_type": "stream",
     "text": [
      "The degree of freedom of the sample is: 14\n"
     ]
    }
   ],
   "source": [
    "# Degree of freedom is n or len(sample) - 1\n",
    "Degree_of_freedom = len(sample)-1\n",
    "print('The degree of freedom of the sample is:', Degree_of_freedom)"
   ]
  },
  {
   "cell_type": "markdown",
   "id": "a2123ac4",
   "metadata": {},
   "source": [
    "### 7. Find and report the Standard Deviation of the Sample"
   ]
  },
  {
   "cell_type": "code",
   "execution_count": 34,
   "id": "1c757f43",
   "metadata": {},
   "outputs": [
    {
     "name": "stdout",
     "output_type": "stream",
     "text": [
      "The standard deviation of the sample is: 9.4577\n"
     ]
    }
   ],
   "source": [
    "# The standard deviation of the sample is np.std\n",
    "std_of_sample = np.std(sample)\n",
    "print('The standard deviation of the sample is:', round (std_of_sample, 4))"
   ]
  },
  {
   "cell_type": "markdown",
   "id": "0889122a",
   "metadata": {},
   "source": [
    "## The End"
   ]
  }
 ],
 "metadata": {
  "kernelspec": {
   "display_name": "Python 3 (ipykernel)",
   "language": "python",
   "name": "python3"
  },
  "language_info": {
   "codemirror_mode": {
    "name": "ipython",
    "version": 3
   },
   "file_extension": ".py",
   "mimetype": "text/x-python",
   "name": "python",
   "nbconvert_exporter": "python",
   "pygments_lexer": "ipython3",
   "version": "3.9.7"
  }
 },
 "nbformat": 4,
 "nbformat_minor": 5
}
